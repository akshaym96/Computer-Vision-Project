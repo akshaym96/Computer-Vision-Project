{
 "cells": [
  {
   "cell_type": "code",
   "execution_count": 2,
   "metadata": {},
   "outputs": [
    {
     "name": "stdout",
     "output_type": "stream",
     "text": [
      "3.4.1\n",
      "1344\n"
     ]
    }
   ],
   "source": [
    "import cv2\n",
    "import numpy as np\n",
    "import matplotlib.pyplot as plt\n",
    "import os\n",
    "import csv\n",
    "\n",
    "print(cv2.__version__)\n",
    "sift  = cv2.xfeatures2d.SIFT_create()\n",
    "\n",
    "def get_dense_descriptors(data):\n",
    "    temp_des = []\n",
    "    des = np.empty(shape=[0,128])\n",
    "    for i in data:\n",
    "        kp = [cv2.KeyPoint(y, x,scale) for y in range(0, i.shape[0], step) \n",
    "                                for x in range(0, i.shape[1], step)]\n",
    "        kp, dense_feat = sift.compute(i, kp)\n",
    "        dense_feat = np.array(dense_feat)\n",
    "        temp_des.append(dense_feat)\n",
    "        des = np.append(des,dense_feat,axis=0)\n",
    "    return temp_des, des \n",
    "\n",
    "# for filename in os.path.join():\n",
    "\n",
    "img = cv2.imread(\"training_set/2.jpg\")\n",
    "# print(img)\n",
    "# sift_dict = {}\n",
    "# for filename in os.listdir('training_set/'):\n",
    "#     img = cv2.imread('training_set/'+filename)\n",
    "#     img = cv2.cvtColor(img, cv2.COLOR_BGR2GRAY)\n",
    "#     cv2.imshow('img',img)\n",
    "#     cv2.waitKey(0)\n",
    "#     cv2.destroyAllWindows()\n",
    "#     break\n",
    "    \n",
    "    \n",
    "\n",
    "# find the keypoints and descriptors with SIFT\n",
    "kp1, des1 = sift.detectAndCompute(img,None)\n",
    "\n",
    "print(len(kp1))"
   ]
  },
  {
   "cell_type": "code",
   "execution_count": 19,
   "metadata": {},
   "outputs": [
    {
     "name": "stdout",
     "output_type": "stream",
     "text": [
      "Column names are photo_id, business_id\n",
      "Processed 234843 lines.\n",
      "234842\n",
      "Column names are business_id, labels\n",
      "Processed 2001 lines.\n",
      "2000\n",
      "Histogram distribution for the labels in the training_set\n",
      "2335\n",
      "5916\n",
      "6408\n",
      "4867\n",
      "4191\n",
      "7347\n",
      "7678\n",
      "3711\n",
      "5037\n",
      "[2335, 5916, 6408, 4867, 4191, 7347, 7678, 3711, 5037]\n"
     ]
    }
   ],
   "source": [
    "#CSV file reading\n",
    "\n",
    "photo_to_bus_dict = {}\n",
    "\n",
    "\n",
    "with open('train_photo_to_biz_ids.csv') as csv_file:\n",
    "    csv_reader = csv.reader(csv_file, delimiter=',')\n",
    "    line_count = 0\n",
    "    for row in csv_reader:\n",
    "        if line_count == 0:\n",
    "            print(f'Column names are {\", \".join(row)}')\n",
    "            line_count += 1\n",
    "        else:\n",
    "            photo_to_bus_dict[row[0]] = row[1]\n",
    "#             print(f'\\t{row[0]} works in the {row[1]} department')\n",
    "            line_count += 1\n",
    "    print(f'Processed {line_count} lines.')\n",
    "print(len(photo_to_bus_dict))\n",
    "    \n",
    "bus_to_labels_dict = {}    \n",
    "    \n",
    "with open('train.csv') as csv_file:\n",
    "    csv_reader = csv.reader(csv_file, delimiter=',')\n",
    "    line_count = 0\n",
    "    for row in csv_reader:\n",
    "        if line_count == 0:\n",
    "            print(f'Column names are {\", \".join(row)}')\n",
    "            line_count += 1\n",
    "        else:\n",
    "            bus_to_labels_dict[row[0]] = [row[1]]\n",
    "#             print(f'\\t{row[0]} works in the {row[1]} department')\n",
    "            line_count += 1\n",
    "    print(f'Processed {line_count} lines.')  \n",
    "print(len(bus_to_labels_dict))\n",
    "\n",
    "hist_label = [0]*9\n",
    "\n",
    "for filename in os.listdir('training_set'):\n",
    "    photo_id = filename.split('.')\n",
    "    lst_labels = bus_to_labels_dict[photo_to_bus_dict[photo_id[0]]]\n",
    "#     print(lst_labels)\n",
    "    labels = lst_labels[0].split(' ')\n",
    "    if len(labels)!=0:\n",
    "        for i in labels:\n",
    "            if i is not '':\n",
    "                hist_label[int(i)]+=1\n",
    "                \n",
    "\n",
    "# print(bus_to_labels_dict[photo_to_bus_dict['204149']])\n",
    "print(\"Histogram distribution for the labels in the training_set\")\n",
    "for i in hist_label:\n",
    "    print(i)\n",
    "    \n",
    "print(hist_label)"
   ]
  },
  {
   "cell_type": "code",
   "execution_count": null,
   "metadata": {
    "collapsed": true
   },
   "outputs": [],
   "source": []
  }
 ],
 "metadata": {
  "kernelspec": {
   "display_name": "Python 3",
   "language": "python",
   "name": "python3"
  },
  "language_info": {
   "codemirror_mode": {
    "name": "ipython",
    "version": 3
   },
   "file_extension": ".py",
   "mimetype": "text/x-python",
   "name": "python",
   "nbconvert_exporter": "python",
   "pygments_lexer": "ipython3",
   "version": "3.6.3"
  }
 },
 "nbformat": 4,
 "nbformat_minor": 2
}
