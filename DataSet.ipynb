{
 "cells": [
  {
   "cell_type": "code",
   "execution_count": 7,
   "metadata": {},
   "outputs": [
    {
     "name": "stdout",
     "output_type": "stream",
     "text": [
      "234842\n"
     ]
    }
   ],
   "source": [
    "import os\n",
    "import cv2 \n",
    "\n",
    "for filename in os.listdir('train_photos'):\n",
    "    if filename.startswith(\"._\"): \n",
    "        os.remove(os.path.join('train_photos',filename))\n",
    "        print(os.path.join('train_photos', filename))\n",
    "        continue\n",
    "    else:\n",
    "        continue      \n",
    "count=0\n",
    "for filename in os.listdir('train_photos'):\n",
    "    if filename.endswith(\".jpg\"):\n",
    "        count+=1\n",
    "        continue\n",
    "    else:\n",
    "        continue\n",
    "print(count)   "
   ]
  },
  {
   "cell_type": "code",
   "execution_count": null,
   "metadata": {
    "scrolled": false
   },
   "outputs": [],
   "source": [
    "count=0\n",
    "for filename in sorted(os.listdir('train_photos'),key=lambda x: int(os.path.splitext(x)[0])):\n",
    "    if filename.endswith(\".jpg\") and count!=10000: \n",
    "        img = cv2.imread(os.path.join('train_photos',filename))\n",
    "        cv2.imwrite(os.path.join('training_set',filename),img)\n",
    "        print(os.path.join('training_set', filename))\n",
    "        count+=1\n",
    "    elif count == 10000:\n",
    "        break\n",
    "print(count)"
   ]
  },
  {
   "cell_type": "code",
   "execution_count": null,
   "metadata": {
    "collapsed": true
   },
   "outputs": [],
   "source": []
  }
 ],
 "metadata": {
  "kernelspec": {
   "display_name": "Python 3",
   "language": "python",
   "name": "python3"
  },
  "language_info": {
   "codemirror_mode": {
    "name": "ipython",
    "version": 3
   },
   "file_extension": ".py",
   "mimetype": "text/x-python",
   "name": "python",
   "nbconvert_exporter": "python",
   "pygments_lexer": "ipython3",
   "version": "3.6.3"
  }
 },
 "nbformat": 4,
 "nbformat_minor": 2
}
